{
 "cells": [
  {
   "cell_type": "code",
   "execution_count": 1,
   "id": "6df4ed67-58d4-445d-8298-5a560b3094c9",
   "metadata": {},
   "outputs": [],
   "source": [
    "import os\n",
    "import sys\n",
    "import glob\n",
    "import code\n",
    "import json\n",
    "import scipy\n",
    "import difflib\n",
    "import datetime\n",
    "import numpy as np\n",
    "import pandas as pd\n",
    "import geopandas as gpd\n",
    "import matplotlib.pyplot as plt\n",
    "from scipy import stats\n",
    "from statsmodels import robust\n",
    "from shapely.ops import unary_union\n",
    "from scipy.stats.mstats import winsorize"
   ]
  },
  {
   "cell_type": "code",
   "execution_count": null,
   "id": "7e2cf106-7b3e-4f0c-b395-d4d8ff59388b",
   "metadata": {},
   "outputs": [],
   "source": [
    "def process_EIA(input_dir):\n",
    "    #\n",
    "    states = []\n",
    "    usa = []\n",
    "    for year in np.arange(2017,2022): # data is available from 2016-22 but we are only interested in 2017-21\n",
    "        # print(\"Processing year: {}\".format(year), flush=True)\n",
    "        df = pd.read_excel(os.path.join(input_dir, \"Reliability_{}.xlsx\".format(year)))\n",
    "        # df = df.iloc[:,0:16]\n",
    "        df = df.drop(df.index[-1])\n",
    "        # dataset's format got updated in 2021\n",
    "        if year != 2021:\n",
    "            df.columns = df.iloc[0]\n",
    "            df = df.drop(df.index[0])\n",
    "            if year == 2019: # Only 2019 data has an extra column called \"Short Form\". We remove it for consistency.\n",
    "                df = df.drop(columns=[\"Short Form\"])\n",
    "            df.columns = ['year', 'utility_number', 'utility_name', 'state', '_', 'saidi_w_med_ieee', '_', '_','saidi_wo_med_ieee', '_', '_','_', '_', '_', 'customers_ieee', '_', '_', 'saidi_w_med_other', '_', '_', 'saidi_wo_med_other', '_', '_', 'customers_other', '_', '_', '_', '_']            \n",
    "            df = df.drop(columns=[\"_\"])\n",
    "        else:\n",
    "            df.columns = df.iloc[1]\n",
    "            df = df.drop(df.index[[0,1]])\n",
    "            df.columns = ['year', 'utility_number', 'utility_name', 'state', '_','saidi_w_med_ieee', '_', '_', 'saidi_wo_med_ieee', '_', '_', '_', '_', '_', 'customers_ieee', '_', '_', 'saidi_w_med_other', '_', '_', 'saidi_wo_med_other', '_', '_', 'customers_other', '_', '_', '_', '_']\n",
    "            df = df.drop(columns=[\"_\"])\n",
    "        # replace \".\" with nans\n",
    "        for col in [\"saidi_w_med_ieee\",\"saidi_wo_med_ieee\",\"customers_ieee\", \"saidi_w_med_other\",\"saidi_wo_med_other\",\"customers_other\"]:\n",
    "            df[col] = df[col].apply(lambda x: x if (isinstance(x, float)==True) | (isinstance(x, int)==True) else np.nan)\n",
    "\n",
    "        # fill nans in IEEE standard columns with values from the other standard columns (if available)\n",
    "        df.loc[:,\"saidi_w_med_ieee\"] = df[\"saidi_w_med_ieee\"].fillna(df[\"saidi_w_med_other\"])\n",
    "        df.loc[:,\"saidi_wo_med_ieee\"] = df[\"saidi_wo_med_ieee\"].fillna(df[\"saidi_wo_med_other\"])\n",
    "        df.loc[:,\"customers_ieee\"] = df[\"customers_ieee\"].fillna(df[\"customers_other\"])\n",
    "\n",
    "        # remove all the other standard columns\n",
    "        df = df.drop(columns = [\"saidi_w_med_other\", \"saidi_wo_med_other\", \"customers_other\"])\n",
    "\n",
    "        # rename IEEE columns\n",
    "        df = df.rename(columns={\"saidi_w_med_ieee\":\"saidi_w_med\", \"saidi_wo_med_ieee\":\"saidi_wo_med\", \"customers_ieee\":\"customers\"})\n",
    "\n",
    "        # compute outage duration \n",
    "        df[\"customer_outage_hours_w_med\"] = df[\"saidi_w_med\"].mul(df[\"customers\"])/60\n",
    "        df[\"customer_outage_hours_wo_med\"] = df[\"saidi_wo_med\"].mul(df[\"customers\"])/60\n",
    "        df[\"customer_outage_hours_only_med\"] = df[\"customer_outage_hours_w_med\"] - df[\"customer_outage_hours_wo_med\"]\n",
    "\n",
    "        \"\"\"\n",
    "        state-level\n",
    "        \"\"\"\n",
    "        # total outage duration and total customers in state\n",
    "        df = df.groupby([\"state\",\"year\"])[[\"customer_outage_hours_w_med\",\"customer_outage_hours_wo_med\",\"customer_outage_hours_only_med\",\"customers\"]].sum().reset_index()\n",
    "        # calculate saidi - storm and no storm\n",
    "        df.loc[:,\"saidi_w_med\"] = df[\"customer_outage_hours_w_med\"].div(df[\"customers\"]) # overall SAIDI\n",
    "        df.loc[:,\"saidi_wo_med\"] = df[\"customer_outage_hours_wo_med\"].div(df[\"customers\"]) # SAIDI without major events\n",
    "        df.loc[:,\"saidi_only_med\"] = df[\"customer_outage_hours_only_med\"].div(df[\"customers\"]) # SAIDI only major events\n",
    "        #\n",
    "        states.append(df)\n",
    "\n",
    "        \"\"\"\n",
    "        USA-level\n",
    "        \"\"\"\n",
    "        # total outage duration and total customers in state\n",
    "        c = df.groupby([\"year\"])[[\"customer_outage_hours_w_med\",\"customer_outage_hours_wo_med\",\"customer_outage_hours_only_med\",\"customers\"]].sum().reset_index()\n",
    "        # calculate saidi - storm and no storm\n",
    "        c.loc[:,\"saidi_w_med\"] = c[\"customer_outage_hours_w_med\"].div(c[\"customers\"]) # overall SAIDI\n",
    "        c.loc[:,\"saidi_wo_med\"] = c[\"customer_outage_hours_wo_med\"].div(c[\"customers\"]) # SAIDI without major events\n",
    "        c.loc[:,\"saidi_only_med\"] = c[\"customer_outage_hours_only_med\"].div(c[\"customers\"]) # SAIDI only major events\n",
    "        #\n",
    "        usa.append(c)\n",
    "    #\n",
    "    states = pd.concat(states).reset_index(drop=True)\n",
    "    usa = pd.concat(usa).reset_index(drop=True)\n",
    "    return states, usa"
   ]
  },
  {
   "cell_type": "code",
   "execution_count": null,
   "id": "3b7c0c16-2377-4a62-b8a3-f5c6682845e1",
   "metadata": {},
   "outputs": [],
   "source": [
    "def process_statenames(usa_statenames):\n",
    "    sn = pd.read_csv(os.path.join(usa_statenames, \"data.csv\"))\n",
    "    sn.loc[:,\"StateName\"] = sn[\"state\"].str.replace(r'[^A-Za-z]+', '', regex=True).str.lower()\n",
    "    sn = sn.rename(columns={\"code\":\"StateName_short\"})\n",
    "    sn = sn[[\"StateName\",\"StateName_short\"]].drop_duplicates()\n",
    "    return sn"
   ]
  },
  {
   "cell_type": "code",
   "execution_count": null,
   "id": "0687b4aa-3e87-4c40-9184-9d5058fe5742",
   "metadata": {},
   "outputs": [],
   "source": [
    "pous_data_dir = \"/POUS\"\n",
    "#-----unity\n",
    "stormdata_dir = \"/USA_storms_data\"\n",
    "counties_shapefile = \"cb_2018_us_county_500k.shp\"\n",
    "eia_data_dir = \"/EIA_reliability_2016_2021\"\n",
    "usa_statenames = \"/USA_states_fullname_to_shortname\""
   ]
  },
  {
   "cell_type": "code",
   "execution_count": null,
   "id": "af4aa0fd-7184-4f28-a37a-407ad3b7c053",
   "metadata": {},
   "outputs": [],
   "source": [
    "name2fips = pd.read_pickle(os.path.join(pous_data_dir, \"state_county_city_utility.pkl\")) #maps countyname to fips\n",
    "print(\"name2fips loaded @ {}\".format(datetime.datetime.now()), flush=True)"
   ]
  },
  {
   "cell_type": "code",
   "execution_count": null,
   "id": "4556771c-4e82-442d-ad32-ebba5b1e457c",
   "metadata": {},
   "outputs": [],
   "source": [
    "# load yearly POUS values for county, state and country\n",
    "agg_pous_data_dir = \"/POUS_and_storms\"\n",
    "file_version = 2\n",
    "\n",
    "county_pous = pd.read_csv(os.path.join(agg_pous_data_dir, \"yearly_county_saidi_v{}.csv\".format(file_version)))\n",
    "state_pous = pd.read_csv(os.path.join(agg_pous_data_dir, \"yearly_state_saidi_v{}.csv\".format(file_version)))\n",
    "country_pous = pd.read_csv(os.path.join(agg_pous_data_dir, \"yearly_country_saidi_v{}.csv\".format(file_version)))"
   ]
  },
  {
   "cell_type": "code",
   "execution_count": null,
   "id": "e50a79e7-1227-441e-b053-4a0f58a33a41",
   "metadata": {},
   "outputs": [],
   "source": [
    "state_eia, country_eia = process_EIA(input_dir=eia_data_dir)"
   ]
  },
  {
   "cell_type": "markdown",
   "id": "0c64af01-3e9c-4dbd-80dd-116e506c7ee0",
   "metadata": {
    "jp-MarkdownHeadingCollapsed": true,
    "tags": []
   },
   "source": [
    "# SAIDI (POUS vs. EIA) country-year plot (not in paper)"
   ]
  },
  {
   "cell_type": "code",
   "execution_count": null,
   "id": "db923939-0a52-478f-b4f1-64b22c86c790",
   "metadata": {},
   "outputs": [],
   "source": [
    "\"\"\"\n",
    "Country level plots\n",
    "\"\"\"\n",
    "from scipy import stats\n",
    "\n",
    "c2 = country_pous[[\"year\",\"saidi\",\"saidi_no_storm\",\"saidi_only_storm\"]].rename(columns={\"saidi\":\"saidi_pous\",\"saidi_no_storm\":\"saidi_no_storm_pous\",\"saidi_only_storm\":\"saidi_storm_pous\"})\n",
    "usa2 = country_eia[[\"year\",\"saidi_w_med\",\"saidi_wo_med\",\"saidi_only_med\"]].rename(columns={\"saidi_w_med\":\"saidi_eia\",\"saidi_wo_med\":\"saidi_no_storm_eia\",\"saidi_only_med\":\"saidi_storm_eia\"})\n",
    "\n",
    "dm = pd.merge(c2, usa2, on=[\"year\"], how=\"left\")\n",
    "dm = dm.dropna()\n",
    "\n",
    "x = dm[\"saidi_eia\"].values\n",
    "y = dm[\"saidi_pous\"].values\n",
    "n = dm[\"year\"].values\n",
    "\n",
    "x_storm = dm[\"saidi_storm_eia\"].values\n",
    "y_storm = dm[\"saidi_storm_pous\"].values\n",
    "\n",
    "x_no_storm = dm[\"saidi_no_storm_eia\"].values\n",
    "y_no_storm = dm[\"saidi_no_storm_pous\"].values\n",
    "\n",
    "slope, intercept, r, _, _ = stats.linregress(x, y)\n",
    "slope_storm, intercept_storm, r_storm, _, _ = stats.linregress(x_storm, y_storm)\n",
    "slope_no_storm, intercept_no_storm, r_no_storm, _, _ = stats.linregress(x_no_storm, y_no_storm)\n",
    "\n",
    "fs = 16\n",
    "fig, ax = plt.subplots(figsize=(11,10))\n",
    "ax.scatter(x, y, c=\"r\", marker=\"*\", label=\"Overall SAIDI\")\n",
    "ax.scatter(x_storm, y_storm, c=\"b\", marker=\"^\", label=\"SAIDI only storm event days\")\n",
    "ax.scatter(x_no_storm, y_no_storm, c=\"k\", marker=\"s\", label=\"SAIDI excluding storm event days\")\n",
    "\n",
    "ax.plot(np.arange(1,15), slope*np.arange(1,15) + intercept, c=\"r\")\n",
    "ax.plot(np.arange(1,15), slope_storm*np.arange(1,15) + intercept_storm, c=\"b\")\n",
    "ax.plot(np.arange(1,15), slope_no_storm*np.arange(1,15) + intercept_no_storm, c=\"k\")\n",
    "\n",
    "ax.plot(np.arange(1,15), np.arange(1,15), linestyle=\"dashdot\")\n",
    "ax.set_xlim([1,14])\n",
    "ax.set_ylim([1,14])\n",
    "\n",
    "for i, txt in enumerate(n):\n",
    "    ax.annotate(txt, (x[i]+0.1, y[i]+0.1), fontsize=fs)\n",
    "    ax.annotate(txt, (x_storm[i]+0.1, y_storm[i]+0.1), fontsize=fs)\n",
    "    ax.annotate(txt, (x_no_storm[i]+0.1, y_no_storm[i]+0.1), fontsize=fs)\n",
    "\n",
    "ax.set_xlabel(\"SAIDI - EIA\", fontsize=fs)\n",
    "ax.set_ylabel(\"SAIDI - POUS\", fontsize=fs)\n",
    "ax.tick_params(axis='both', which='major', labelsize=fs)\n",
    "\n",
    "plt.legend(fontsize=fs)\n",
    "plt.grid()\n",
    "plt.tight_layout()\n",
    "plt.savefig(\"country_level_SAIDI_scatterplot.pdf\", bbox_inches=\"tight\")\n",
    "plt.show()"
   ]
  },
  {
   "cell_type": "markdown",
   "id": "7d90c3da-a885-4263-9ddf-056ce8d4576a",
   "metadata": {
    "jp-MarkdownHeadingCollapsed": true,
    "tags": []
   },
   "source": [
    "# State SAIDI scatter (not in paper)"
   ]
  },
  {
   "cell_type": "code",
   "execution_count": null,
   "id": "37816516-97f0-4f57-9f76-d9377c789f4d",
   "metadata": {},
   "outputs": [],
   "source": [
    "\"\"\"\n",
    "State level plots\n",
    "\"\"\"\n",
    "from scipy import stats\n",
    "\n",
    "c2 = state_pous[[\"StateName\",\"year\",\"saidi\",\"saidi_no_storm\",\"saidi_only_storm\"]].rename(columns={\"saidi\":\"saidi_pous\",\"saidi_no_storm\":\"saidi_no_storm_pous\",\"saidi_only_storm\":\"saidi_storm_pous\"})\n",
    "usa2 = state_eia[[\"state\",\"year\",\"saidi_w_med\",\"saidi_wo_med\",\"saidi_only_med\"]].rename(columns={\"state\":\"StateName_short\",\"saidi_w_med\":\"saidi_eia\",\"saidi_wo_med\":\"saidi_no_storm_eia\",\"saidi_only_med\":\"saidi_storm_eia\"})\n",
    "\n",
    "\n",
    "sn = process_statenames(usa_statenames=usa_statenames)\n",
    "c2 = pd.merge(c2, sn, on=[\"StateName\"], how=\"left\")\n",
    "\n",
    "#\n",
    "dm = pd.merge(c2, usa2, on=[\"StateName_short\",\"year\"], how=\"left\")\n",
    "dm = dm.dropna()\n",
    "\n",
    "#\n",
    "fs = 14\n",
    "nrows = 5\n",
    "ncols = 1\n",
    "i = 0\n",
    "j = 0\n",
    "fig, ax = plt.subplots(nrows=nrows, ncols=ncols, figsize=(10,40))\n",
    "\n",
    "grouped = dm.groupby([\"year\"])\n",
    "\n",
    "for _, dg in grouped:\n",
    "    year = dg[\"year\"].unique()[0]\n",
    "    #\n",
    "    x = dg[\"saidi_eia\"].values\n",
    "    y = dg[\"saidi_pous\"].values\n",
    "    n = dg[\"StateName_short\"].values\n",
    "    #\n",
    "    ax[i].scatter(x, y, c=\"r\", marker=\"*\")\n",
    "    ax[i].set_title(\"Year:{}\".format(year), fontsize=fs)\n",
    "    # ax[i].set_xscale(\"log\")\n",
    "    # ax[i].set_yscale(\"log\")\n",
    "    # ax[i].set_xlim([1,100])\n",
    "    # ax[i].set_ylim([1,100])\n",
    "    #\n",
    "    for k, txt in enumerate(n):\n",
    "        ax[i].annotate(txt, (x[k]+0.1, y[k]+0.1), fontsize=fs)\n",
    "    #\n",
    "    ax[i].set_xlabel(\"SAIDI - EIA\", fontsize=fs)\n",
    "    ax[i].set_ylabel(\"SAIDI - POUS\", fontsize=fs)\n",
    "    ax[i].tick_params(axis='both', which='major', labelsize=fs)\n",
    "    #\n",
    "    i = i + 1\n",
    "\n",
    "        \n",
    "# plt.legend(fontsize=fs)\n",
    "# plt.grid()\n",
    "plt.tight_layout()\n",
    "# plt.savefig(\"state_level_SAIDI_scatterplots.pdf\", bbox_inches=\"tight\")\n",
    "plt.show()"
   ]
  },
  {
   "cell_type": "markdown",
   "id": "cdd20921-7b86-4e47-ad79-a8dc678d0e94",
   "metadata": {
    "jp-MarkdownHeadingCollapsed": true,
    "tags": []
   },
   "source": [
    "# Utilities Summaries (not in paper)"
   ]
  },
  {
   "cell_type": "code",
   "execution_count": null,
   "id": "13cd2aa4-231b-45e8-a1b1-56d24d48618a",
   "metadata": {},
   "outputs": [],
   "source": [
    "def total_utilities_covered(pous_data_dir, eia_data_dir):\n",
    "    \"\"\"\n",
    "    Better if viewed in jupyter notebook\n",
    "\n",
    "    Compares total number of utilities covered in EIA with POUS\n",
    "    \"\"\"\n",
    "    #\n",
    "    # EIA\n",
    "    utils = []\n",
    "    for year in np.arange(2016,2022):\n",
    "        df = pd.read_excel(os.path.join(eia_data_dir, \"Reliability_{}.xlsx\".format(year)))\n",
    "        df = df.iloc[:,0:16]\n",
    "        df = df.drop(df.index[-1])\n",
    "        # dataset's format got updated in 2021\n",
    "        if year != 2021:\n",
    "            df.columns = df.iloc[0]\n",
    "            df = df.drop(df.index[0])\n",
    "            df = df[[\"Data Year\", \"Utility Number\", \"Utility Name\", \"State\", \"SAIDI With MED\", \"SAIDI Without MED\", \"Number of Customers\"]]\n",
    "            df = df.rename(columns={\"Data Year\":\"year\", \"Utility Number\":\"utility_number\",\"Utility Name\":\"utility_name\",\"State\":\"state\",\"SAIDI With MED\":\"saidi_w_storm\",\"SAIDI Without MED\":\"saidi_wo_storm\",\"Number of Customers\":\"customers\"})\n",
    "        else:\n",
    "            df.columns = df.iloc[1]\n",
    "            df = df.drop(df.index[[0,1]])\n",
    "            df.columns = [\"year\", \"utility_number\", \"utility_name\", \"state\", \"_\", \"saidi_w_storm\", \"_\", \"_\", \"saidi_wo_storm\", \"_\", \"_\", \"_\", \"_\", \"_\", \"customers\", \"_\"]\n",
    "            df = df.drop(columns=[\"_\"])\n",
    "        #\n",
    "        df = df[[\"year\",\"state\",\"utility_name\"]].drop_duplicates()\n",
    "        df.loc[:,\"utility_name\"] = df[\"utility_name\"].str.replace(r'[^A-Za-z]+', '', regex=True).str.lower()\n",
    "        df.loc[:,\"state\"] = df[\"state\"].str.replace(r'[^A-Za-z]+', '', regex=True).str.lower()\n",
    "        utils.append(df)\n",
    "    utils = pd.concat(utils).reset_index(drop=True).rename(columns={\"utility_name\":\"eia_utility\"})\n",
    "    #\n",
    "    # POUS\n",
    "    raw_filename = \"POUS_Export_CountyByUtility_Daily_2017-2021.csv\"\n",
    "    dc = pd.read_csv(os.path.join(pous_data_dir, raw_filename), encoding='utf-16')\n",
    "    dc.loc[:,\"RecordDate\"] = pd.to_datetime(dc.loc[:,\"RecordDate\"], format=\"%Y-%m-%d\")\n",
    "    dc.loc[:,\"year\"] = dc.loc[:,\"RecordDate\"].dt.year\n",
    "    dc = dc[[\"year\",\"StateName\",\"UtilityName\"]].drop_duplicates()                                                                             \n",
    "    #\n",
    "    dc.loc[:,\"StateName\"] = dc[\"StateName\"].str.replace(r'[^A-Za-z]+', '', regex=True).str.lower()\n",
    "    dc.loc[:,\"UtilityName\"] = dc[\"UtilityName\"].str.replace(r'[^A-Za-z]+', '', regex=True).str.lower()\n",
    "    dc = dc[[\"year\",\"StateName\",\"UtilityName\"]].drop_duplicates().rename(columns={\"UtilityName\":\"pous_utility\"}) \n",
    "    #\n",
    "\n",
    "    # Compare the two at country-year level \n",
    "    u1 = utils.groupby([\"year\"])[[\"eia_utility\"]].nunique().reset_index()\n",
    "    c1 = dc.groupby([\"year\"])[[\"pous_utility\"]].nunique().reset_index()\n",
    "    db1 = pd.merge(u1, c1, on=[\"year\"])\n",
    "    db1 = db1[(db1[\"year\"].isin([2017,2018,2019,2020,2021]))]\n",
    "    # plot\n",
    "    n = db1[\"year\"].values\n",
    "    x = db1[\"eia_utility\"].values\n",
    "    y = db1[\"pous_utility\"].values\n",
    "\n",
    "    fs = 16\n",
    "    fig, ax = plt.subplots(figsize=(7,6))\n",
    "    ax.scatter(x, y, c=\"r\", marker=\"*\")\n",
    "    ax.set_xlim([400,1200])\n",
    "    ax.set_ylim([400,800])\n",
    "    for i, txt in enumerate(n):\n",
    "        ax.annotate(txt, (x[i]+0.12, y[i]+0.12), fontsize=fs)\n",
    "    ax.set_xlabel(\"Total utilities covered - EIA\", fontsize=fs)\n",
    "    ax.set_ylabel(\"Total utilities covered - POUS\", fontsize=fs)\n",
    "    ax.tick_params(axis='both', which='major', labelsize=fs)\n",
    "\n",
    "    plt.grid()\n",
    "    plt.tight_layout()\n",
    "    # plt.savefig(\"coverage_POUS_EIA_scatterplot.pdf\", bbox_inches=\"tight\")\n",
    "    plt.show()\n",
    "\n",
    "    return None"
   ]
  },
  {
   "cell_type": "code",
   "execution_count": null,
   "id": "2922a34f-7de1-4833-bdd6-d04a138a6a77",
   "metadata": {},
   "outputs": [],
   "source": [
    "total_utilities_covered(pous_data_dir, eia_data_dir)"
   ]
  },
  {
   "cell_type": "markdown",
   "id": "7340ab98-adfe-4140-aa44-a9183db2190d",
   "metadata": {
    "jp-MarkdownHeadingCollapsed": true,
    "tags": []
   },
   "source": [
    "# POUS vs. EIA, POUS coverage plots (PAPER)"
   ]
  },
  {
   "cell_type": "code",
   "execution_count": null,
   "id": "da263227-2d16-44ae-825b-ecad45c9ae38",
   "metadata": {},
   "outputs": [],
   "source": [
    "\"\"\"\n",
    "DESCRIPTIVE STATS\n",
    "\n",
    "POUS COVERAGE PLOTS\n",
    "(February 7, 2023)\n",
    "\"\"\"\n",
    "\n",
    "def POUS_county_daily_outages(input_dir):\n",
    "    \"\"\"\n",
    "    - performs basic processing of the CountyByUtility daily summary dataset\n",
    "    - winsorizes customers tracked\n",
    "    - aggregates customers out and tracked to county level\n",
    "    - output: daily customers out and tracked in each county\n",
    "    \"\"\"\n",
    "    raw_filename = \"POUS_Export_CountyByUtility_Daily_2017-2021.csv\"\n",
    "    dm = pd.read_csv(os.path.join(input_dir, raw_filename), encoding='utf-16')\n",
    "    dc = dm.copy() #create a backup\n",
    "    dc.loc[:,\"RecordDate\"] = pd.to_datetime(dc.loc[:,\"RecordDate\"], format=\"%Y-%m-%d\")\n",
    "    dc.loc[:,\"year\"] = dc.loc[:,\"RecordDate\"].dt.year\n",
    "    #\n",
    "    dc.loc[:,\"StateName\"] = dc[\"StateName\"].str.replace(r'[^A-Za-z]+', '', regex=True).str.lower()\n",
    "    dc.loc[:,\"UtilityName\"] = dc[\"UtilityName\"].str.replace(r'[^A-Za-z]+', '', regex=True).str.lower()\n",
    "    dc.loc[:,\"CountyName\"] = dc[\"CountyName\"].str.replace(r'[^A-Za-z]+', '', regex=True).str.lower()\n",
    "    # add CountyFIPS\n",
    "    dc = pd.merge(dc, name2fips[[\"StateName\",\"CountyName\",\"CountyFIPS\"]].drop_duplicates(), on=[\"StateName\",\"CountyName\"], how=\"left\")\n",
    "    #\n",
    "    ##### Total number of utilities, counties and states tracked\n",
    "    utils = dc.groupby([\"year\"])[[\"UtilityName\",\"CountyFIPS\",\"StateName\"]].nunique().reset_index()\n",
    "    print(\"Total utilities, counties and states tracked by year\")\n",
    "    print(utils) \n",
    "    \"\"\"\n",
    "    calculate customers tracked\n",
    "    - winsorize over a year\n",
    "    - output: it only changes daily CT values when they are beyond the winsorization extremes\n",
    "    \"\"\"\n",
    "    #\n",
    "    def winsorize_series(group):\n",
    "        return winsorize(group, limits=[0.1,0.2])\n",
    "    # winsorize year by year\n",
    "    dc.loc[:,\"CustomersTracked_clean\"] = dc.groupby([\"StateName\",\"CountyName\",\"CountyFIPS\",\"UtilityName\",\"year\"])[\"CustomersTracked\"].transform(winsorize_series)\n",
    "    \"\"\"\n",
    "    calculate daily SAIDI in each county\n",
    "    \"\"\"\n",
    "    # add all customer outage-hours and customers tracked in a county\n",
    "    dc = dc.groupby([\"StateName\",\"CountyName\",\"CountyFIPS\",\"RecordDate\"])[[\"CustomersTracked_clean\",\"CustomerHoursOutTotal\"]].sum().reset_index()\n",
    "    dc[\"SAIDI\"] = dc[\"CustomerHoursOutTotal\"].div(dc[\"CustomersTracked_clean\"])\n",
    "    ##### Total number of customers tracked\n",
    "    pc = dc.copy()\n",
    "    pc[\"year\"] = pc[\"RecordDate\"].dt.year\n",
    "    pc = pc.groupby([\"StateName\",\"CountyName\",\"year\"])[\"CustomersTracked_clean\"].median().reset_index()\n",
    "    pc = pc.groupby([\"year\"])[\"CustomersTracked_clean\"].sum().reset_index()\n",
    "    print(\"Total customers tracked by year\")\n",
    "    return dc, utils, pc\n",
    "\n",
    "dc, utils, pc = POUS_county_daily_outages(input_dir=pous_data_dir)\n"
   ]
  },
  {
   "cell_type": "code",
   "execution_count": null,
   "id": "99a90e4c-afc1-4468-9289-9b21063cb3dc",
   "metadata": {},
   "outputs": [],
   "source": [
    "# plot of coverage -- counties by year and customers tracked by year\n",
    "\n",
    "# eliminate 2022 values\n",
    "pc = pc[(pc[\"year\"] != 2022)]\n",
    "utils = utils[(utils[\"year\"]!=2022)]\n",
    "\n",
    "fs = 16\n",
    "fig, ax1 = plt.subplots(figsize=(7.5,6))\n",
    "#\n",
    "l1 = ax1.plot(pc[\"year\"], pc[\"CustomersTracked_clean\"], c=\"r\", marker=\"*\", markersize=10, label=\"Customers tracked\")\n",
    "ax1.set_xlabel(\"Year\", fontsize=fs)\n",
    "ax1.set_ylabel(\"Customers tracked\", fontsize=fs)\n",
    "ax1.set_ylim([0.75e8,1.321e8])\n",
    "ax1.tick_params(axis='both', labelsize=fs)\n",
    "ax1.yaxis.offsetText.set_fontsize(fs+1)\n",
    "#\n",
    "ax2 = ax1.twinx()\n",
    "l2 = ax2.plot(utils[\"year\"], utils[\"CountyFIPS\"], c=\"b\", marker=\"^\", markersize=10, label=\"Counties covered\")\n",
    "ax2.set_ylabel(\"Counties covered\", fontsize=fs)\n",
    "ax2.set_ylim([2500,3100])\n",
    "ax2.tick_params(axis='both', labelsize=fs)\n",
    "#\n",
    "ls = l1+l2\n",
    "labs = [l.get_label() for l in ls]\n",
    "ax1.legend(ls, labs, loc=\"lower right\", fontsize=fs)\n",
    "plt.tight_layout()\n",
    "# plt.savefig(\"coverage_summary.png\", bbox_inches=\"tight\")\n",
    "plt.show()"
   ]
  },
  {
   "cell_type": "code",
   "execution_count": null,
   "id": "b20b667d-a5c8-4c09-bf27-de9274fd35d4",
   "metadata": {},
   "outputs": [],
   "source": [
    "#### plot of country-wide SAIDI values (POUS)\n",
    "ps= country_pous[(country_pous[\"year\"]!=2022)]\n",
    "\n",
    "fs = 16\n",
    "fig, ax = plt.subplots(figsize=(8,6))\n",
    "#\n",
    "# plt.bar(ps[\"year\"], ps[\"saidi_only_storm\"], width=0.6, edgecolor='black', label=\"Weather-related\", zorder=200)\n",
    "# plt.bar(ps[\"year\"], ps[\"saidi_no_storm\"], bottom=ps[\"saidi_only_storm\"], width=0.6, edgecolor='black', label=\"Non-weather-related\", zorder=200)\n",
    "\n",
    "plt.bar(ps[\"year\"], ps[\"saidi_no_storm\"], width=0.6, edgecolor='black', label=\"Non-weather-related\", zorder=200)\n",
    "plt.bar(ps[\"year\"], ps[\"saidi_only_storm\"], bottom=ps[\"saidi_no_storm\"], width=0.6, edgecolor='black', label=\"Weather-related\", zorder=200)\n",
    "#\n",
    "plt.xlabel(\"Year\", fontsize=fs)\n",
    "plt.ylabel(\"SAIDI calculated using POUS\", fontsize=fs)\n",
    "plt.tick_params(axis='both', labelsize=fs)\n",
    "#\n",
    "plt.legend(bbox_to_anchor=(0.5, 1.12), loc='upper center', ncol=2, fontsize=fs)\n",
    "#\n",
    "plt.grid(axis=\"y\", zorder=0)\n",
    "plt.tight_layout()\n",
    "plt.savefig(\"pous_saidi_summary.png\", bbox_inches=\"tight\")\n",
    "plt.show()"
   ]
  },
  {
   "cell_type": "code",
   "execution_count": null,
   "id": "9b30fb3a-12fe-4915-9067-79df7f38d575",
   "metadata": {},
   "outputs": [],
   "source": [
    "#### plot of country-wide SAIDI values (EIA)\n",
    "\n",
    "# eia_data_dir = \"/gypsum/eguide/projects/zshah/data/EIA_reliability_2016_2021\"\n",
    "# _, country_eia = process_EIA(input_dir=eia_data_dir)\n",
    "\n",
    "es= country_eia.copy()\n",
    "\n",
    "fs = 16\n",
    "fig, ax = plt.subplots(figsize=(8,6))\n",
    "#\n",
    "# plt.bar(es[\"year\"], es[\"saidi_only_med\"], width=0.6, edgecolor='black', label=\"Only major event days\", zorder=200)\n",
    "# plt.bar(es[\"year\"], es[\"saidi_wo_med\"], bottom=es[\"saidi_only_med\"], width=0.6, edgecolor='black', label=\"Excluding major event days\", zorder=200)\n",
    "\n",
    "plt.bar(es[\"year\"], es[\"saidi_wo_med\"], width=0.6, edgecolor='black', color='#1D2F6F', label=\"Excluding major event days\", zorder=200)\n",
    "plt.bar(es[\"year\"], es[\"saidi_only_med\"], bottom=es[\"saidi_wo_med\"], width=0.6, edgecolor='black', color='#8390FA', label=\"Only major event days\", zorder=200)\n",
    "\n",
    "#\n",
    "plt.xlabel(\"Year\", fontsize=fs)\n",
    "plt.ylabel(\"EIA-reported SAIDI\", fontsize=fs)\n",
    "plt.tick_params(axis='both', labelsize=fs)\n",
    "#\n",
    "plt.legend(bbox_to_anchor=(0.5, 1.12), loc='upper center', ncol=2, fontsize=fs)\n",
    "#\n",
    "plt.grid(axis=\"y\", zorder=0)\n",
    "plt.tight_layout()\n",
    "plt.savefig(\"eia_saidi_summary.png\", bbox_inches=\"tight\")\n",
    "plt.show()"
   ]
  },
  {
   "cell_type": "markdown",
   "id": "05b603df-9d52-442b-917f-8aa00df8e13a",
   "metadata": {
    "jp-MarkdownHeadingCollapsed": true,
    "tags": []
   },
   "source": [
    "# County to Majority Utility Mapping (for models)"
   ]
  },
  {
   "cell_type": "code",
   "execution_count": null,
   "id": "b937073b-a5da-4764-9289-6ed5b3013097",
   "metadata": {},
   "outputs": [],
   "source": [
    "def POUS_county_utility_customers(input_dir):\n",
    "    raw_filename = \"POUS_Export_CountyByUtility_Daily_2017-2021.csv\"\n",
    "    dm = pd.read_csv(os.path.join(input_dir, raw_filename), encoding='utf-16')\n",
    "    dc = dm.copy() #create a backup\n",
    "    dc.loc[:,\"RecordDate\"] = pd.to_datetime(dc.loc[:,\"RecordDate\"], format=\"%Y-%m-%d\")\n",
    "    dc.loc[:,\"year\"] = dc.loc[:,\"RecordDate\"].dt.year\n",
    "    #\n",
    "    dc.loc[:,\"StateName\"] = dc[\"StateName\"].str.replace(r'[^A-Za-z]+', '', regex=True).str.lower()\n",
    "    dc.loc[:,\"UtilityName\"] = dc[\"UtilityName\"].str.replace(r'[^A-Za-z]+', '', regex=True).str.lower()\n",
    "    dc.loc[:,\"CountyName\"] = dc[\"CountyName\"].str.replace(r'[^A-Za-z]+', '', regex=True).str.lower()\n",
    "    \"\"\"\n",
    "    calculate customers tracked\n",
    "    - winsorize over a year\n",
    "    - output: it only changes daily CT values when they are beyond the winsorization extremes\n",
    "    \"\"\"\n",
    "    # noise removal\n",
    "    def winsorize_series(group):\n",
    "        return winsorize(group, limits=[0.1,0.2])\n",
    "    # winsorize year by year\n",
    "    dc.loc[:,\"CustomersTracked_clean\"] = dc.groupby([\"StateName\",\"CountyName\",\"UtilityName\",\"year\"])[\"CustomersTracked\"].transform(winsorize_series)\n",
    "\n",
    "    # add countyFIPS column\n",
    "    name2fips = pd.read_pickle(os.path.join(input_dir, \"state_county_city_utility.pkl\"))\n",
    "    name2fips = name2fips[[\"StateName\",\"CountyName\",\"CountyFIPS\"]].drop_duplicates()\n",
    "    dc = pd.merge(dc, name2fips, on=[\"StateName\",\"CountyName\"], how=\"left\")\n",
    "    return dc\n",
    "\n",
    "pous_data_dir = \"/gypsum/eguide/projects/zshah/data/POUS\"\n",
    "pous = POUS_county_utility_customers(input_dir=pous_data_dir)"
   ]
  },
  {
   "cell_type": "code",
   "execution_count": null,
   "id": "100d3c10-c6c6-417d-81d5-f5dbbd09ca98",
   "metadata": {},
   "outputs": [],
   "source": [
    "# calculate total customers in each county\n",
    "fips_totalCusts = pous.groupby([\"CountyFIPS\",\"RecordDate\",\"year\"])[[\"CustomersTracked_clean\"]].sum().reset_index()\n",
    "fips_totalCusts = fips_totalCusts.groupby([\"CountyFIPS\",\"year\"])[[\"CustomersTracked_clean\"]].median().reset_index()\n",
    "fips_totalCusts = fips_totalCusts.rename(columns={\"CustomersTracked_clean\":\"total_customers\"})\n",
    "\n",
    "# calculate total customers in each county by utility\n",
    "fips_util_totalCusts = pous.groupby([\"CountyFIPS\",\"UtilityName\",\"year\"])[[\"CustomersTracked_clean\"]].median().reset_index()\n",
    "fips_util_totalCusts = fips_util_totalCusts.rename(columns={\"CustomersTracked_clean\":\"total_utility_customers\"})\n",
    "\n",
    "# combine the two\n",
    "fips_util = pd.merge(fips_util_totalCusts, fips_totalCusts, on=[\"CountyFIPS\",\"year\"], how=\"left\")\n",
    "fips_util = fips_util[(fips_util[\"year\"] != 2022)]"
   ]
  },
  {
   "cell_type": "code",
   "execution_count": null,
   "id": "c8f2e4a9-514c-41ca-afe0-b126ef36d316",
   "metadata": {},
   "outputs": [],
   "source": [
    "fips_util[\"prop_CustomersServed\"] = fips_util[\"total_utility_customers\"].div(fips_util[\"total_customers\"])\n",
    "display(fips_util)\n",
    "\n",
    "# SAVE complete mapping of county to utilities\n",
    "county_to_util = fips_util[[\"CountyFIPS\",\"year\",\"UtilityName\"]].drop_duplicates()\n",
    "\n",
    "output_dir = \"/gypsum/eguide/projects/zshah/data/POUS_and_storms\"\n",
    "county_to_util.to_csv(os.path.join(output_dir, \"county_to_utilities_complete_mapping.csv\"))"
   ]
  },
  {
   "cell_type": "code",
   "execution_count": null,
   "id": "0f4b44da-29f6-4621-8b8b-0118c7c82170",
   "metadata": {},
   "outputs": [],
   "source": [
    "# calculate median proportion of customers served by each utility in a county over a year\n",
    "\n",
    "major_util_by_year = fips_util[[\"CountyFIPS\",\"year\",\"UtilityName\",\"prop_CustomersServed\"]].reset_index(drop=True)\n",
    "\n",
    "major_util_by_year = major_util_by_year.loc[major_util_by_year.groupby([\"CountyFIPS\",\"year\"])[\"prop_CustomersServed\"].idxmax()]\n",
    "\n",
    "display(major_util_by_year)\n",
    "\n",
    "major_util_by_year = major_util_by_year.drop(columns=[\"prop_CustomersServed\"])\n",
    "\n",
    "display(major_util_by_year)\n",
    "\n",
    "# SAVE county to majority utility mapping\n",
    "major_util_by_year.to_csv(os.path.join(output_dir, \"county_to_MajorUtility_mapping.csv\"))"
   ]
  },
  {
   "cell_type": "code",
   "execution_count": null,
   "id": "a61f9c84-9b60-433a-891c-b5d7eb43e0f6",
   "metadata": {},
   "outputs": [],
   "source": [
    "major_util_by_year.columns"
   ]
  },
  {
   "cell_type": "markdown",
   "id": "ccfe0289-0c64-4d2b-af64-828961b240ce",
   "metadata": {},
   "source": [
    "# Sanity checks"
   ]
  },
  {
   "cell_type": "code",
   "execution_count": 38,
   "id": "f281f02c-dba0-4bac-acc5-f0f44f9e8c57",
   "metadata": {},
   "outputs": [],
   "source": [
    "pous_data_dir = \"/POUS\"\n",
    "stormdata_dir = \"/USA_storms_data\"\n",
    "counties_shapefile = \"cb_2018_us_county_500k.shp\"\n",
    "eia_data_dir = \"/EIA_reliability_2016_2021\"\n",
    "output_dir = \"/POUS_and_storms\"\n",
    "\n",
    "#-------------------\n",
    "input_dir = pous_data_dir\n",
    "raw_filename = \"POUS_Export_CountyByUtility_Daily_2017-2021.csv\"\n",
    "dm = pd.read_csv(os.path.join(input_dir, raw_filename), encoding='utf-16')\n",
    "dc = dm.copy() #create a backup\n",
    "dc.loc[:,\"RecordDate\"] = pd.to_datetime(dc.loc[:,\"RecordDate\"], format=\"%Y-%m-%d\")\n",
    "dc.loc[:,\"year\"] = dc.loc[:,\"RecordDate\"].dt.year\n",
    "#\n",
    "dc.loc[:,\"StateName\"] = dc[\"StateName\"].str.replace(r'[^A-Za-z]+', '', regex=True).str.lower()\n",
    "dc.loc[:,\"UtilityName\"] = dc[\"UtilityName\"].str.replace(r'[^A-Za-z]+', '', regex=True).str.lower()\n",
    "dc.loc[:,\"CountyName\"] = dc[\"CountyName\"].str.replace(r'[^A-Za-z]+', '', regex=True).str.lower()\n",
    "\"\"\"\n",
    "calculate customers tracked\n",
    "- winsorize over a year\n",
    "- output: it only changes daily CT values when they are beyond the winsorization extremes\n",
    "\"\"\"\n",
    "# noise removal\n",
    "def winsorize_series(group):\n",
    "    return winsorize(group, limits=[0.1,0.1])\n",
    "# winsorize year by year\n",
    "dc.loc[:,\"CustomersTracked_clean\"] = dc.groupby([\"StateName\",\"CountyName\",\"UtilityName\",\"year\"])[\"CustomersTracked\"].transform(winsorize_series)\n",
    "\"\"\"\n",
    "calculate total daily customer-outage-hours and customers tracked in each county \n",
    "- Basically adds up all customer outage-hours and customers tracked in a county and eliminates utility name\n",
    "\"\"\"\n",
    "dc = dc.groupby([\"StateName\",\"CountyName\",\"RecordDate\",\"year\"])[[\"CustomersTracked\",\"CustomersTracked_clean\",\"CustomerHoursOutTotal\"]].sum().reset_index()\n",
    "# C1: filter out all the readings where customer outage hours were higher than theoretically possible\n",
    "# dc = dc[(dc[\"CustomerHoursOutTotal\"] <= dc[\"CustomersTracked\"]*24)]\n",
    "dc = dc[(dc[\"CustomerHoursOutTotal\"] <= dc[\"CustomersTracked\"]*24) & (dc[\"CustomerHoursOutTotal\"] <= dc[\"CustomersTracked_clean\"]*24)]\n",
    "\n",
    "name2fips = pd.read_pickle(os.path.join(pous_data_dir, \"state_county_city_utility.pkl\")) #maps countyname to fips\n",
    "name2fips = name2fips[[\"StateName\",\"CountyName\",\"CountyFIPS\"]].drop_duplicates()\n",
    "name2fips[\"CountyFIPS\"] = name2fips[\"CountyFIPS\"].apply(lambda x: str(int(x)).zfill(5))\n",
    "\n",
    "dc = pd.merge(dc, name2fips, on=[\"StateName\",\"CountyName\"], how=\"left\")"
   ]
  },
  {
   "cell_type": "markdown",
   "id": "32a1d2d1-d51d-45ae-972f-d991080d205f",
   "metadata": {},
   "source": [
    "visualize customerstracked and customer-outage-hours by FIPS"
   ]
  },
  {
   "cell_type": "code",
   "execution_count": 49,
   "id": "c21a9f98-3feb-4ece-8b15-33ccab88d314",
   "metadata": {},
   "outputs": [
    {
     "data": {
      "text/plain": [
       "Text(0, 0.5, 'Customer-Outage-Hours')"
      ]
     },
     "execution_count": 49,
     "metadata": {},
     "output_type": "execute_result"
    },
    {
     "data": {
      "image/png": "[encoded data removed]",
      "text/plain": [
       "<Figure size 864x432 with 1 Axes>"
      ]
     },
     "metadata": {
      "needs_background": "light"
     },
     "output_type": "display_data"
    },
    {
     "data": {
      "image/png": "[encoded data removed]",
      "text/plain": [
       "<Figure size 864x432 with 1 Axes>"
      ]
     },
     "metadata": {
      "needs_background": "light"
     },
     "output_type": "display_data"
    }
   ],
   "source": [
    "fips = \"27107\"\n",
    "\n",
    "dc3 = dc[(dc.CountyFIPS == fips)]\n",
    "\n",
    "fig, ax = plt.subplots(figsize=(12,6))\n",
    "plt.plot(dc3.RecordDate, dc3.CustomersTracked, label=\"original customers tracked\")\n",
    "plt.plot(dc3.RecordDate, dc3.CustomersTracked_clean, label=\"customers tracked - cleaned\")\n",
    "plt.legend()\n",
    "\n",
    "fig, ax = plt.subplots(figsize=(12,6))\n",
    "plt.plot(dc3.RecordDate, dc3.CustomerHoursOutTotal, c=\"blue\", label=\"true customer-outage-hours\")\n",
    "plt.legend()\n",
    "plt.ylabel(\"Customer-Outage-Hours\")\n"
   ]
  },
  {
   "cell_type": "markdown",
   "id": "314ec0a0-fdc7-4202-ae94-3dffea4093c7",
   "metadata": {},
   "source": [
    "# Averaging Method (OG)"
   ]
  },
  {
   "cell_type": "markdown",
   "id": "b40c0bd4-fc64-4366-8f34-b0f354da1d9b",
   "metadata": {},
   "source": [
    "Country-level"
   ]
  },
  {
   "cell_type": "code",
   "execution_count": 50,
   "id": "a08196ea-e5d9-483f-b287-65ab97112748",
   "metadata": {},
   "outputs": [
    {
     "data": {
      "text/html": [
       "<div>\n",
       "<style scoped>\n",
       "    .dataframe tbody tr th:only-of-type {\n",
       "        vertical-align: middle;\n",
       "    }\n",
       "\n",
       "    .dataframe tbody tr th {\n",
       "        vertical-align: top;\n",
       "    }\n",
       "\n",
       "    .dataframe thead th {\n",
       "        text-align: right;\n",
       "    }\n",
       "</style>\n",
       "<table border=\"1\" class=\"dataframe\">\n",
       "  <thead>\n",
       "    <tr style=\"text-align: right;\">\n",
       "      <th></th>\n",
       "      <th>year</th>\n",
       "      <th>CustomerHoursOutTotal</th>\n",
       "      <th>CustomersTracked_clean</th>\n",
       "      <th>saidi</th>\n",
       "    </tr>\n",
       "  </thead>\n",
       "  <tbody>\n",
       "    <tr>\n",
       "      <th>0</th>\n",
       "      <td>2017</td>\n",
       "      <td>9.740488e+08</td>\n",
       "      <td>73755631.0</td>\n",
       "      <td>13.206433</td>\n",
       "    </tr>\n",
       "    <tr>\n",
       "      <th>1</th>\n",
       "      <td>2018</td>\n",
       "      <td>9.862781e+08</td>\n",
       "      <td>105173330.0</td>\n",
       "      <td>9.377645</td>\n",
       "    </tr>\n",
       "    <tr>\n",
       "      <th>2</th>\n",
       "      <td>2019</td>\n",
       "      <td>9.747452e+08</td>\n",
       "      <td>112775046.0</td>\n",
       "      <td>8.643270</td>\n",
       "    </tr>\n",
       "    <tr>\n",
       "      <th>3</th>\n",
       "      <td>2020</td>\n",
       "      <td>1.536394e+09</td>\n",
       "      <td>124121137.0</td>\n",
       "      <td>12.378179</td>\n",
       "    </tr>\n",
       "    <tr>\n",
       "      <th>4</th>\n",
       "      <td>2021</td>\n",
       "      <td>1.535823e+09</td>\n",
       "      <td>130807669.0</td>\n",
       "      <td>11.741076</td>\n",
       "    </tr>\n",
       "    <tr>\n",
       "      <th>5</th>\n",
       "      <td>2022</td>\n",
       "      <td>3.395986e+06</td>\n",
       "      <td>132446627.0</td>\n",
       "      <td>0.025640</td>\n",
       "    </tr>\n",
       "  </tbody>\n",
       "</table>\n",
       "</div>"
      ],
      "text/plain": [
       "   year  CustomerHoursOutTotal  CustomersTracked_clean      saidi\n",
       "0  2017           9.740488e+08              73755631.0  13.206433\n",
       "1  2018           9.862781e+08             105173330.0   9.377645\n",
       "2  2019           9.747452e+08             112775046.0   8.643270\n",
       "3  2020           1.536394e+09             124121137.0  12.378179\n",
       "4  2021           1.535823e+09             130807669.0  11.741076\n",
       "5  2022           3.395986e+06             132446627.0   0.025640"
      ]
     },
     "execution_count": 50,
     "metadata": {},
     "output_type": "execute_result"
    }
   ],
   "source": [
    "def q75(x):\n",
    "    return x.quantile(0.75)\n",
    "\n",
    "ct = dc.groupby([\"RecordDate\",\"year\"])[[\"CustomersTracked_clean\",\"CustomerHoursOutTotal\"]].sum().reset_index()\n",
    "\n",
    "ct = ct.groupby([\"year\"]).agg({\"CustomerHoursOutTotal\":\"sum\", \"CustomersTracked_clean\":q75}).reset_index()\n",
    "\n",
    "ct.columns = [\"year\",\"CustomerHoursOutTotal\", \"CustomersTracked_clean\"]\n",
    "\n",
    "ct.loc[:,\"saidi\"] = ct[\"CustomerHoursOutTotal\"].div(ct[\"CustomersTracked_clean\"])\n",
    "\n",
    "ct"
   ]
  },
  {
   "cell_type": "markdown",
   "id": "98f6df43-4530-4124-a9a8-f5d57d119a5e",
   "metadata": {},
   "source": [
    "County-level (summation method)"
   ]
  },
  {
   "cell_type": "code",
   "execution_count": 40,
   "id": "e6169c85-54c9-48d1-b27d-6c1314dea19e",
   "metadata": {},
   "outputs": [
    {
     "data": {
      "text/html": [
       "<div>\n",
       "<style scoped>\n",
       "    .dataframe tbody tr th:only-of-type {\n",
       "        vertical-align: middle;\n",
       "    }\n",
       "\n",
       "    .dataframe tbody tr th {\n",
       "        vertical-align: top;\n",
       "    }\n",
       "\n",
       "    .dataframe thead th {\n",
       "        text-align: right;\n",
       "    }\n",
       "</style>\n",
       "<table border=\"1\" class=\"dataframe\">\n",
       "  <thead>\n",
       "    <tr style=\"text-align: right;\">\n",
       "      <th></th>\n",
       "      <th>StateName</th>\n",
       "      <th>CountyFIPS</th>\n",
       "      <th>CountyName</th>\n",
       "      <th>year</th>\n",
       "      <th>CustomersTracked_clean</th>\n",
       "      <th>CustomersTracked</th>\n",
       "      <th>CustomerHoursOutTotal</th>\n",
       "      <th>saidi_clean</th>\n",
       "      <th>saidi</th>\n",
       "    </tr>\n",
       "  </thead>\n",
       "  <tbody>\n",
       "    <tr>\n",
       "      <th>0</th>\n",
       "      <td>alabama</td>\n",
       "      <td>01001</td>\n",
       "      <td>autauga</td>\n",
       "      <td>2017</td>\n",
       "      <td>16972.00</td>\n",
       "      <td>16972.00</td>\n",
       "      <td>63914.31</td>\n",
       "      <td>3.765868</td>\n",
       "      <td>3.765868</td>\n",
       "    </tr>\n",
       "    <tr>\n",
       "      <th>1</th>\n",
       "      <td>alabama</td>\n",
       "      <td>01001</td>\n",
       "      <td>autauga</td>\n",
       "      <td>2018</td>\n",
       "      <td>19485.00</td>\n",
       "      <td>19485.00</td>\n",
       "      <td>139187.74</td>\n",
       "      <td>7.143328</td>\n",
       "      <td>7.143328</td>\n",
       "    </tr>\n",
       "    <tr>\n",
       "      <th>2</th>\n",
       "      <td>alabama</td>\n",
       "      <td>01001</td>\n",
       "      <td>autauga</td>\n",
       "      <td>2019</td>\n",
       "      <td>19573.00</td>\n",
       "      <td>19573.00</td>\n",
       "      <td>89705.51</td>\n",
       "      <td>4.583125</td>\n",
       "      <td>4.583125</td>\n",
       "    </tr>\n",
       "    <tr>\n",
       "      <th>3</th>\n",
       "      <td>alabama</td>\n",
       "      <td>01001</td>\n",
       "      <td>autauga</td>\n",
       "      <td>2020</td>\n",
       "      <td>30465.75</td>\n",
       "      <td>30465.75</td>\n",
       "      <td>816984.59</td>\n",
       "      <td>26.816494</td>\n",
       "      <td>26.816494</td>\n",
       "    </tr>\n",
       "    <tr>\n",
       "      <th>4</th>\n",
       "      <td>alabama</td>\n",
       "      <td>01001</td>\n",
       "      <td>autauga</td>\n",
       "      <td>2021</td>\n",
       "      <td>28603.00</td>\n",
       "      <td>28603.00</td>\n",
       "      <td>326479.03</td>\n",
       "      <td>11.414153</td>\n",
       "      <td>11.414153</td>\n",
       "    </tr>\n",
       "    <tr>\n",
       "      <th>...</th>\n",
       "      <td>...</td>\n",
       "      <td>...</td>\n",
       "      <td>...</td>\n",
       "      <td>...</td>\n",
       "      <td>...</td>\n",
       "      <td>...</td>\n",
       "      <td>...</td>\n",
       "      <td>...</td>\n",
       "      <td>...</td>\n",
       "    </tr>\n",
       "    <tr>\n",
       "      <th>17346</th>\n",
       "      <td>wyoming</td>\n",
       "      <td>56043</td>\n",
       "      <td>washakie</td>\n",
       "      <td>2022</td>\n",
       "      <td>2702.00</td>\n",
       "      <td>2702.00</td>\n",
       "      <td>0.00</td>\n",
       "      <td>0.000000</td>\n",
       "      <td>0.000000</td>\n",
       "    </tr>\n",
       "    <tr>\n",
       "      <th>17347</th>\n",
       "      <td>wyoming</td>\n",
       "      <td>56045</td>\n",
       "      <td>weston</td>\n",
       "      <td>2019</td>\n",
       "      <td>43.00</td>\n",
       "      <td>43.00</td>\n",
       "      <td>21.54</td>\n",
       "      <td>0.500930</td>\n",
       "      <td>0.500930</td>\n",
       "    </tr>\n",
       "    <tr>\n",
       "      <th>17348</th>\n",
       "      <td>wyoming</td>\n",
       "      <td>56045</td>\n",
       "      <td>weston</td>\n",
       "      <td>2020</td>\n",
       "      <td>90.00</td>\n",
       "      <td>90.00</td>\n",
       "      <td>1027.06</td>\n",
       "      <td>11.411778</td>\n",
       "      <td>11.411778</td>\n",
       "    </tr>\n",
       "    <tr>\n",
       "      <th>17349</th>\n",
       "      <td>wyoming</td>\n",
       "      <td>56045</td>\n",
       "      <td>weston</td>\n",
       "      <td>2021</td>\n",
       "      <td>3937.00</td>\n",
       "      <td>3937.00</td>\n",
       "      <td>2966.46</td>\n",
       "      <td>0.753482</td>\n",
       "      <td>0.753482</td>\n",
       "    </tr>\n",
       "    <tr>\n",
       "      <th>17350</th>\n",
       "      <td>wyoming</td>\n",
       "      <td>56045</td>\n",
       "      <td>weston</td>\n",
       "      <td>2022</td>\n",
       "      <td>3937.00</td>\n",
       "      <td>3937.00</td>\n",
       "      <td>0.00</td>\n",
       "      <td>0.000000</td>\n",
       "      <td>0.000000</td>\n",
       "    </tr>\n",
       "  </tbody>\n",
       "</table>\n",
       "<p>17351 rows × 9 columns</p>\n",
       "</div>"
      ],
      "text/plain": [
       "      StateName CountyFIPS CountyName  year  CustomersTracked_clean  \\\n",
       "0       alabama      01001    autauga  2017                16972.00   \n",
       "1       alabama      01001    autauga  2018                19485.00   \n",
       "2       alabama      01001    autauga  2019                19573.00   \n",
       "3       alabama      01001    autauga  2020                30465.75   \n",
       "4       alabama      01001    autauga  2021                28603.00   \n",
       "...         ...        ...        ...   ...                     ...   \n",
       "17346   wyoming      56043   washakie  2022                 2702.00   \n",
       "17347   wyoming      56045     weston  2019                   43.00   \n",
       "17348   wyoming      56045     weston  2020                   90.00   \n",
       "17349   wyoming      56045     weston  2021                 3937.00   \n",
       "17350   wyoming      56045     weston  2022                 3937.00   \n",
       "\n",
       "       CustomersTracked  CustomerHoursOutTotal  saidi_clean      saidi  \n",
       "0              16972.00               63914.31     3.765868   3.765868  \n",
       "1              19485.00              139187.74     7.143328   7.143328  \n",
       "2              19573.00               89705.51     4.583125   4.583125  \n",
       "3              30465.75              816984.59    26.816494  26.816494  \n",
       "4              28603.00              326479.03    11.414153  11.414153  \n",
       "...                 ...                    ...          ...        ...  \n",
       "17346           2702.00                   0.00     0.000000   0.000000  \n",
       "17347             43.00                  21.54     0.500930   0.500930  \n",
       "17348             90.00                1027.06    11.411778  11.411778  \n",
       "17349           3937.00                2966.46     0.753482   0.753482  \n",
       "17350           3937.00                   0.00     0.000000   0.000000  \n",
       "\n",
       "[17351 rows x 9 columns]"
      ]
     },
     "execution_count": 40,
     "metadata": {},
     "output_type": "execute_result"
    }
   ],
   "source": [
    "def q75(x):\n",
    "    return x.quantile(0.75)\n",
    "\n",
    "dm = dc.groupby([\"StateName\",\"CountyFIPS\",\"CountyName\",\"year\"]).agg({\"CustomersTracked_clean\":q75,\"CustomersTracked\":q75,\"CustomerHoursOutTotal\":\"sum\"}).reset_index()\n",
    "\n",
    "dm.columns = [\"StateName\",\"CountyFIPS\",\"CountyName\",\"year\",\"CustomersTracked_clean\",\"CustomersTracked\",\"CustomerHoursOutTotal\"]\n",
    "\n",
    "dm[\"saidi_clean\"] = dm[\"CustomerHoursOutTotal\"].div(dm[\"CustomersTracked_clean\"])\n",
    "dm[\"saidi\"] = dm[\"CustomerHoursOutTotal\"].div(dm[\"CustomersTracked\"])\n",
    "\n",
    "dm"
   ]
  },
  {
   "cell_type": "markdown",
   "id": "99c9ea95-b8e7-4ba3-bf7e-a66599646c09",
   "metadata": {},
   "source": [
    "CDF -- % county-year pairs by CustomersTracked"
   ]
  },
  {
   "cell_type": "code",
   "execution_count": 42,
   "id": "55946e56-24d7-4315-a554-1d45cb2e304b",
   "metadata": {},
   "outputs": [
    {
     "data": {
      "image/png": "[encoded data removed]",
      "text/plain": [
       "<Figure size 576x432 with 1 Axes>"
      ]
     },
     "metadata": {
      "needs_background": "light"
     },
     "output_type": "display_data"
    }
   ],
   "source": [
    "ct_cdf = dm[[\"CountyFIPS\",\"year\",\"CustomersTracked_clean\"]].drop_duplicates().sort_values(by=\"CustomersTracked_clean\").reset_index(drop=True)\n",
    "\n",
    "ct_cdf[\"county-year_pairs\"] = ct_cdf.index\n",
    "\n",
    "ct_cdf[\"county-year_pairs\"] = ct_cdf[\"county-year_pairs\"]*100/ct_cdf[\"county-year_pairs\"].max()\n",
    "\n",
    "\n",
    "fig, ax = plt.subplots(figsize=(8,6))\n",
    "fs = 16\n",
    "\n",
    "plt.plot(ct_cdf[\"CustomersTracked_clean\"], ct_cdf[\"county-year_pairs\"])\n",
    "plt.xlabel(\"Customers Tracked (log-scale)\", fontsize=fs)\n",
    "plt.ylabel(\"% of county-year pairs\", fontsize=fs)\n",
    "plt.title(\"CDF - proportion of county-year pairs by customers tracked \\n Total county-year pairs = {}\".format(len(ct_cdf)))\n",
    "plt.xscale(\"log\")\n",
    "plt.xticks(fontsize=fs)\n",
    "plt.yticks(fontsize=fs)\n",
    "\n",
    "plt.grid()\n",
    "\n",
    "plt.tight_layout()\n",
    "\n",
    "plt.savefig(\"./output/CDF_CustomersTracked.png\", bbox_inches=\"tight\")\n",
    "\n",
    "plt.show()"
   ]
  },
  {
   "cell_type": "markdown",
   "id": "73985072-cdaf-49c9-b57b-0be595c0c078",
   "metadata": {},
   "source": [
    "CDF -- % county-year pairs by SAIDI"
   ]
  },
  {
   "cell_type": "code",
   "execution_count": 55,
   "id": "7c2eb2be-cf8f-4089-beb4-6890bab78edd",
   "metadata": {},
   "outputs": [
    {
     "data": {
      "image/png": "[encoded data removed]",
      "text/plain": [
       "<Figure size 576x432 with 1 Axes>"
      ]
     },
     "metadata": {
      "needs_background": "light"
     },
     "output_type": "display_data"
    }
   ],
   "source": [
    "saidi_cdf = dm[[\"CountyFIPS\",\"year\",\"saidi_clean\"]].drop_duplicates().sort_values(by=\"saidi_clean\").reset_index(drop=True)\n",
    "\n",
    "saidi_cdf[\"county-year_pairs\"] = saidi_cdf.index\n",
    "\n",
    "saidi_cdf[\"county-year_pairs\"] = saidi_cdf[\"county-year_pairs\"]*100/saidi_cdf[\"county-year_pairs\"].max()\n",
    "\n",
    "\n",
    "fig, ax = plt.subplots(figsize=(8,6))\n",
    "fs = 16\n",
    "\n",
    "plt.plot(saidi_cdf[\"saidi_clean\"], saidi_cdf[\"county-year_pairs\"])\n",
    "plt.xlabel(\"SAIDI (log-scale)\", fontsize=fs)\n",
    "plt.ylabel(\"% of county-year pairs\", fontsize=fs)\n",
    "plt.title(\"CDF - proportion of county-year pairs by yearly SAIDI \\n Total county-year pairs = {} \\n {} county-year pairs have SAIDI > 1000\".format(len(saidi_cdf), len(saidi_cdf[saidi_cdf[\"saidi_clean\"]>1000])))\n",
    "plt.xscale(\"log\")\n",
    "\n",
    "plt.xticks(fontsize=fs)\n",
    "plt.yticks(fontsize=fs)\n",
    "\n",
    "plt.grid()\n",
    "\n",
    "plt.tight_layout()\n",
    "\n",
    "plt.savefig(\"./output/CDF_yearlySAIDI.png\", bbox_inches=\"tight\")\n",
    "\n",
    "plt.show()"
   ]
  },
  {
   "cell_type": "code",
   "execution_count": 56,
   "id": "d064a2ea-ebf9-476e-ac19-c3ee8642fe5c",
   "metadata": {},
   "outputs": [
    {
     "data": {
      "text/plain": [
       "'/home/zshah_umass_edu/projects/Poweroutages-inequity/poweroutages-inequity/scripts'"
      ]
     },
     "execution_count": 56,
     "metadata": {},
     "output_type": "execute_result"
    }
   ],
   "source": []
  },
  {
   "cell_type": "code",
   "execution_count": null,
   "id": "4334cafe-2cea-4327-b4c9-65badde57800",
   "metadata": {},
   "outputs": [],
   "source": []
  },
  {
   "cell_type": "code",
   "execution_count": null,
   "id": "3407ed1b-3730-4810-ac09-37dec9b1266f",
   "metadata": {},
   "outputs": [],
   "source": []
  },
  {
   "cell_type": "code",
   "execution_count": null,
   "id": "323986f2-8dce-430d-8d84-9d3fb5f0602c",
   "metadata": {},
   "outputs": [],
   "source": []
  },
  {
   "cell_type": "markdown",
   "id": "89ae493a-f149-4b89-902b-65e74f2fbfac",
   "metadata": {
    "jp-MarkdownHeadingCollapsed": true,
    "tags": []
   },
   "source": [
    "# Summation Method"
   ]
  },
  {
   "cell_type": "markdown",
   "id": "85a5eedb-4b76-43f9-8545-23f1beeaea3a",
   "metadata": {},
   "source": [
    "County-level (summation method)"
   ]
  },
  {
   "cell_type": "code",
   "execution_count": 3,
   "id": "616f5dff-ab75-41ec-b4c8-75d9930ff910",
   "metadata": {},
   "outputs": [],
   "source": [
    "da = dc.copy()\n",
    "\n",
    "da[\"month\"] = da[\"RecordDate\"].dt.month\n",
    "\n",
    "da[\"saidi_clean\"] = da[\"CustomerHoursOutTotal\"]/da[\"CustomersTracked_clean\"]\n",
    "da[\"saidi\"] = da[\"CustomerHoursOutTotal\"]/da[\"CustomersTracked\"]\n",
    "\n",
    "da_year = da.groupby([\"StateName\",\"CountyFIPS\",\"CountyName\",\"year\"])[[\"saidi_clean\",\"saidi\"]].sum().reset_index()\n",
    "da_month = da.groupby([\"StateName\",\"CountyFIPS\",\"CountyName\",\"year\",\"month\"])[[\"saidi_clean\",\"saidi\"]].sum().reset_index()"
   ]
  },
  {
   "cell_type": "code",
   "execution_count": 5,
   "id": "9f8ec3d7-86ac-4ef1-a34d-b4c5ecd42a98",
   "metadata": {
    "tags": []
   },
   "outputs": [
    {
     "data": {
      "text/plain": [
       "55"
      ]
     },
     "execution_count": 5,
     "metadata": {},
     "output_type": "execute_result"
    }
   ],
   "source": [
    "len(da_year[(da_year.saidi_clean >= 1000)].sort_values(by=\"saidi_clean\"))"
   ]
  },
  {
   "cell_type": "markdown",
   "id": "cbde64c1-73b2-42de-9114-c67f489fdfdc",
   "metadata": {},
   "source": [
    "Country-level (summation method)"
   ]
  },
  {
   "cell_type": "code",
   "execution_count": null,
   "id": "91d071eb-3fb6-4153-aae0-8ceb4987ab78",
   "metadata": {},
   "outputs": [],
   "source": [
    "dg = dc.copy()\n",
    "\n",
    "dg = dg.groupby([\"RecordDate\",\"year\"])[[\"CustomerHoursOutTotal\",\"CustomersTracked_clean\",\"CustomersTracked\"]].sum().reset_index()\n",
    "\n",
    "dg[\"saidi_clean\"] = dg[\"CustomerHoursOutTotal\"]/dg[\"CustomersTracked_clean\"]\n",
    "dg[\"saidi\"] = dg[\"CustomerHoursOutTotal\"]/dg[\"CustomersTracked\"]\n",
    "\n",
    "dg_year = dg.groupby([\"year\"])[[\"saidi_clean\",\"saidi\"]].sum().reset_index() "
   ]
  },
  {
   "cell_type": "code",
   "execution_count": null,
   "id": "fe05098d-186b-438c-909b-ec6482aa1783",
   "metadata": {},
   "outputs": [],
   "source": [
    "dg_year"
   ]
  },
  {
   "cell_type": "code",
   "execution_count": null,
   "id": "481eb0d0-e96e-498f-88d1-297b098c02c2",
   "metadata": {},
   "outputs": [],
   "source": []
  }
 ],
 "metadata": {
  "kernelspec": {
   "display_name": "Python 3 (ipykernel)",
   "language": "python",
   "name": "python3"
  },
  "language_info": {
   "codemirror_mode": {
    "name": "ipython",
    "version": 3
   },
   "file_extension": ".py",
   "mimetype": "text/x-python",
   "name": "python",
   "nbconvert_exporter": "python",
   "pygments_lexer": "ipython3",
   "version": "3.10.13"
  }
 },
 "nbformat": 4,
 "nbformat_minor": 5
}
